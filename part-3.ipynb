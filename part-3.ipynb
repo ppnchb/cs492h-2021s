{
 "cells": [
  {
   "cell_type": "markdown",
   "id": "documentary-struggle",
   "metadata": {},
   "source": [
    "# VAE6\n",
    "## Changes to VAE3\n",
    "* Add robustness to blurriness\n",
    "* Improved beta-VAE"
   ]
  },
  {
   "cell_type": "code",
   "execution_count": null,
   "id": "liberal-disabled",
   "metadata": {},
   "outputs": [],
   "source": [
    "import os\n",
    "import sys\n",
    "\n",
    "import numpy as np\n",
    "import torch\n",
    "import torch.nn as nn\n",
    "import pytorch3d\n",
    "from skimage.filters import gaussian\n",
    "\n",
    "import trimesh\n",
    "\n",
    "from tqdm import tqdm\n",
    "\n",
    "from vae_3d import VAE3D\n",
    "from gaussian_smoothing import GaussianSmoothing\n",
    "\n",
    "# Check whether GPU is available.\n",
    "device = torch.device(\"cuda:0\" if torch.cuda.is_available() else \"cpu\")\n",
    "print(device)\n",
    "\n",
    "torch.manual_seed(1337)\n",
    "np.random.seed(1337)"
   ]
  },
  {
   "cell_type": "code",
   "execution_count": null,
   "id": "necessary-surname",
   "metadata": {},
   "outputs": [],
   "source": [
    "import difx\n",
    "voxelize = difx.Voxelizer(image_size=32, sigma=4e-3)"
   ]
  },
  {
   "cell_type": "code",
   "execution_count": null,
   "id": "excellent-evans",
   "metadata": {},
   "outputs": [],
   "source": [
    "from pytorch3d.datasets import ShapeNetCore\n",
    "\n",
    "SYNSET_CHAIR = '03001627'\n",
    "SYNSET_JAR = '03593526'\n",
    "\n",
    "SHAPENET_PATH = '/home/ubuntu/voxel-autoencoder/shapenet/ShapeNetCore.v2'\n",
    "R2N2_PATH = '/home/ubuntu/voxel-autoencoder/shapenet/ShapeNetVox32'\n",
    "\n",
    "shapenet_dataset = ShapeNetCore(SHAPENET_PATH, synsets=[SYNSET_CHAIR], version=2, load_textures=True)\n",
    "\n",
    "len(shapenet_dataset)"
   ]
  },
  {
   "cell_type": "code",
   "execution_count": null,
   "id": "fitted-integrity",
   "metadata": {},
   "outputs": [],
   "source": [
    "class Vertex2Face(nn.Module):\n",
    "    def __init__(self):\n",
    "        super(Vertex2Face, self).__init__()\n",
    "    \n",
    "    def forward(self, vert, idx):\n",
    "        \"\"\"\n",
    "        :param vert: real tensor [batch size, num vertices, 3]\n",
    "        :param idx: int tensor [batch size, num faces, 3]\n",
    "        :return: real tensor [batch size, num_faces, 3, 3]\n",
    "        \"\"\"\n",
    "        assert (vert.ndimension() == 3)\n",
    "        assert (idx.ndimension() == 3)\n",
    "        assert (vert.shape[0] == idx.shape[0])\n",
    "        assert (vert.shape[2] == 3)\n",
    "        assert (idx.shape[2] == 3)\n",
    "\n",
    "        bs, nv = vert.shape[:2]\n",
    "        bs, nf = idx.shape[:2]\n",
    "        device = vert.device\n",
    "        idx = idx + (torch.arange(bs, dtype=torch.int32).to(device) * nv)[:, None, None]\n",
    "        vert = vert.reshape((bs * nv, 3))\n",
    "        # pytorch only supports long and byte tensors for indexing\n",
    "        return vert[idx.long()]\n",
    "\n",
    "class Mesh2SP(nn.Module):\n",
    "    def __init__(self, pretrained_path, basis_path):\n",
    "        super(Mesh2SP, self).__init__()\n",
    "        \n",
    "        self.vert2face = Vertex2Face()\n",
    "        \n",
    "        self.voxelize = difx.Voxelizer(image_size=32, sigma=4e-3)\n",
    "        \n",
    "        self.net = VAE3D(32).cuda().double().eval()\n",
    "        self.net.load_state_dict(torch.load(pretrained_path))\n",
    "        \n",
    "        self.basis = torch.load(basis_path).cuda().double()\n",
    "    \n",
    "    def forward(self, vert, idx):\n",
    "        faces = self.vert2face(vert, idx)\n",
    "        voxels = self.voxelize(faces).unsqueeze(0)\n",
    "        latent, _ = self.net.encoder(voxels)\n",
    "        semantics = torch.matmul(latent, self.basis)\n",
    "        return semantics, voxels"
   ]
  },
  {
   "cell_type": "code",
   "execution_count": null,
   "id": "dedicated-companion",
   "metadata": {},
   "outputs": [],
   "source": [
    "mesh2sp = Mesh2SP('outputs_vae6/model_500_best.pth', 'outputs_vae6/model_basis.pth')"
   ]
  },
  {
   "cell_type": "code",
   "execution_count": null,
   "id": "hourly-china",
   "metadata": {},
   "outputs": [],
   "source": [
    "import random\n",
    "mesh = random.choice(shapenet_dataset)\n",
    "vert, idx = mesh['verts'].unsqueeze(0).cuda().double().detach(), mesh['faces'].unsqueeze(0).cuda().detach()\n",
    "\n",
    "semantics, voxels = mesh2sp(vert, idx)"
   ]
  },
  {
   "cell_type": "code",
   "execution_count": null,
   "id": "geological-headset",
   "metadata": {},
   "outputs": [],
   "source": [
    "mesh_tri = trimesh.Trimesh(mesh['verts'], mesh['faces'])\n",
    "mesh_tri.show()"
   ]
  },
  {
   "cell_type": "code",
   "execution_count": null,
   "id": "existing-retro",
   "metadata": {},
   "outputs": [],
   "source": [
    "print(semantics.shape)\n",
    "target_semantics = semantics.clone().detach()\n",
    "target_semantics[0,0,0] += -1\n",
    "target_semantics"
   ]
  },
  {
   "cell_type": "code",
   "execution_count": null,
   "id": "characteristic-reverse",
   "metadata": {},
   "outputs": [],
   "source": [
    "vert.requires_grad = True\n",
    "optimizer = torch.optim.Adam([vert], lr=1e-4)\n",
    "\n",
    "loss = np.infty\n",
    "while loss > 1e-2:\n",
    "    optimizer.zero_grad\n",
    "    semantics, voxels = mesh2sp(vert, idx)\n",
    "    loss = torch.sum((semantics - target_semantics) ** 2)\n",
    "    print(loss.item())\n",
    "    \n",
    "    loss.backward()\n",
    "    optimizer.step()"
   ]
  },
  {
   "cell_type": "code",
   "execution_count": null,
   "id": "light-license",
   "metadata": {},
   "outputs": [],
   "source": [
    "mesh_tri = trimesh.Trimesh(vert[0,:,:].detach().cpu(), mesh['faces'])\n",
    "mesh_tri.show()"
   ]
  },
  {
   "cell_type": "code",
   "execution_count": null,
   "id": "looking-device",
   "metadata": {},
   "outputs": [],
   "source": []
  }
 ],
 "metadata": {
  "kernelspec": {
   "display_name": "Python 3",
   "language": "python",
   "name": "python3"
  },
  "language_info": {
   "codemirror_mode": {
    "name": "ipython",
    "version": 3
   },
   "file_extension": ".py",
   "mimetype": "text/x-python",
   "name": "python",
   "nbconvert_exporter": "python",
   "pygments_lexer": "ipython3",
   "version": "3.8.0"
  }
 },
 "nbformat": 4,
 "nbformat_minor": 5
}
